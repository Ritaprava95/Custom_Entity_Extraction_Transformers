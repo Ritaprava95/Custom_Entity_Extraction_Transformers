{
 "cells": [
  {
   "cell_type": "code",
   "execution_count": 17,
   "id": "b2f30f54",
   "metadata": {},
   "outputs": [],
   "source": [
    "from transformers import AutoModelForTokenClassification, TrainingArguments, Trainer\n",
    "from transformers import DataCollatorForTokenClassification\n",
    "from transformers import AutoTokenizer\n",
    "import torch\n",
    "from datasets import load_metric\n",
    "import pickle\n",
    "import json\n",
    "import numpy as np"
   ]
  },
  {
   "cell_type": "code",
   "execution_count": 6,
   "id": "da07b80c",
   "metadata": {},
   "outputs": [],
   "source": [
    "# reading the tokenizer\n",
    "tokenizer = AutoTokenizer.from_pretrained(r'E:\\Work\\Data_Science\\Projects\\Custom_NER\\models\\huggingface\\final.model')"
   ]
  },
  {
   "cell_type": "code",
   "execution_count": 7,
   "id": "4d4a4fb7",
   "metadata": {},
   "outputs": [],
   "source": [
    "# read the test data\n",
    "with open(f\"../data/huggingface/test.json\", 'r') as f:\n",
    "    test = json.load(f)"
   ]
  },
  {
   "cell_type": "code",
   "execution_count": 12,
   "id": "8a300069",
   "metadata": {},
   "outputs": [
    {
     "name": "stdout",
     "output_type": "stream",
     "text": [
      "{'id': 9797, 'ner_tags': [0, 0, 0, 0, 0, 0, 2, 5, 7, 2, 0, 0, 2, 5, 5, 0, 2, 0, 0, 0, 0, 0, 0, 0, 0, 0, 0, 0, 0, 0, 0, 0, 0, 0, 0, 0], 'tokens': ['In', 'a', 'letter', 'sent', 'to', 'the', 'Confederation', 'of', 'African', 'Football', 'and', 'the', 'Nigeria', 'Football', 'Association', ',', 'FIFA', 'said', 'the', 'two', 'appointments', 'are', 'in', 'direct', 'violation', 'of', 'Article', '17', 'of', 'the', 'world', 'governing', 'body', \"'s\", 'statutes', '.']}\n"
     ]
    }
   ],
   "source": [
    "# taking one example from the test se\n",
    "test_ex = test[0]\n",
    "print(test_ex)"
   ]
  },
  {
   "cell_type": "code",
   "execution_count": 13,
   "id": "c0a889b3",
   "metadata": {},
   "outputs": [
    {
     "name": "stdout",
     "output_type": "stream",
     "text": [
      "In a letter sent to the Confederation of African Football and the Nigeria Football Association , FIFA said the two appointments are in direct violation of Article 17 of the world governing body 's statutes .\n"
     ]
    }
   ],
   "source": [
    "# creating the original sentence\n",
    "test_sent = \" \".join(test_ex['tokens'])\n",
    "print(test_sent)"
   ]
  },
  {
   "cell_type": "markdown",
   "id": "05e0a1cf",
   "metadata": {},
   "source": [
    "### Now in order to tokenize either we can use the sentence or can use the word token, both will give the same result"
   ]
  },
  {
   "cell_type": "code",
   "execution_count": 16,
   "id": "56f5b438",
   "metadata": {},
   "outputs": [
    {
     "name": "stdout",
     "output_type": "stream",
     "text": [
      "{'input_ids': [101, 1999, 1037, 3661, 2741, 2000, 1996, 11078, 1997, 3060, 2374, 1998, 1996, 7387, 2374, 2523, 1010, 5713, 2056, 1996, 2048, 14651, 2024, 1999, 3622, 11371, 1997, 3720, 2459, 1997, 1996, 2088, 8677, 2303, 1005, 1055, 18574, 1012, 102], 'attention_mask': [1, 1, 1, 1, 1, 1, 1, 1, 1, 1, 1, 1, 1, 1, 1, 1, 1, 1, 1, 1, 1, 1, 1, 1, 1, 1, 1, 1, 1, 1, 1, 1, 1, 1, 1, 1, 1, 1, 1]}\n"
     ]
    }
   ],
   "source": [
    "# tokenization from the word tokens\n",
    "tokens = tokenizer(test_ex['tokens'], truncation=True, is_split_into_words=True)\n",
    "print(tokens)"
   ]
  },
  {
   "cell_type": "code",
   "execution_count": 15,
   "id": "07159813",
   "metadata": {},
   "outputs": [
    {
     "name": "stdout",
     "output_type": "stream",
     "text": [
      "{'input_ids': [101, 1999, 1037, 3661, 2741, 2000, 1996, 11078, 1997, 3060, 2374, 1998, 1996, 7387, 2374, 2523, 1010, 5713, 2056, 1996, 2048, 14651, 2024, 1999, 3622, 11371, 1997, 3720, 2459, 1997, 1996, 2088, 8677, 2303, 1005, 1055, 18574, 1012, 102], 'attention_mask': [1, 1, 1, 1, 1, 1, 1, 1, 1, 1, 1, 1, 1, 1, 1, 1, 1, 1, 1, 1, 1, 1, 1, 1, 1, 1, 1, 1, 1, 1, 1, 1, 1, 1, 1, 1, 1, 1, 1]}\n"
     ]
    }
   ],
   "source": [
    "# tokenization from sentence\n",
    "tokens = tokenizer(test_sent)\n",
    "print(tokens)"
   ]
  },
  {
   "cell_type": "markdown",
   "id": "6d387999",
   "metadata": {},
   "source": [
    "As we can see above two cell giving same output"
   ]
  },
  {
   "cell_type": "markdown",
   "id": "74d0b292",
   "metadata": {},
   "source": [
    "### Reading the model that we trained"
   ]
  },
  {
   "cell_type": "code",
   "execution_count": 18,
   "id": "8eb7d1b0",
   "metadata": {},
   "outputs": [
    {
     "name": "stdout",
     "output_type": "stream",
     "text": [
      "{'O': 0, 'B-geo': 1, 'B-org': 2, 'B-tim': 3, 'I-per': 4, 'I-org': 5, 'B-per': 6, 'B-gpe': 7, 'I-geo': 8, 'I-tim': 9, 'B-art': 10, 'B-eve': 11, 'I-eve': 12, 'I-art': 13, 'I-gpe': 14, 'B-nat': 15, 'I-nat': 16}\n"
     ]
    }
   ],
   "source": [
    "# read label_maps\n",
    "with open(f\"label_maps.json\", 'r') as f:\n",
    "    label2id = json.load(f)\n",
    "print(label2id)\n",
    "\n",
    "model = AutoModelForTokenClassification.from_pretrained(r'E:\\Work\\Data_Science\\Projects\\Custom_NER\\models\\huggingface\\final.model',\n",
    "                                                        num_labels=len(label2id)\n",
    "                                                       )"
   ]
  },
  {
   "cell_type": "code",
   "execution_count": 21,
   "id": "63007148",
   "metadata": {},
   "outputs": [
    {
     "data": {
      "text/plain": [
       "torch.Size([1, 39])"
      ]
     },
     "execution_count": 21,
     "metadata": {},
     "output_type": "execute_result"
    }
   ],
   "source": [
    "torch.tensor(tokens['input_ids']).unsqueeze(0).size()"
   ]
  },
  {
   "cell_type": "markdown",
   "id": "baba067e",
   "metadata": {},
   "source": [
    "### Finally making the prediction"
   ]
  },
  {
   "cell_type": "code",
   "execution_count": 24,
   "id": "8e54c7a6",
   "metadata": {},
   "outputs": [],
   "source": [
    "# raw prediction as probability distribution\n",
    "predictions = model.forward(input_ids=torch.tensor(tokens['input_ids']).unsqueeze(0), attention_mask=torch.tensor(tokens['attention_mask']).unsqueeze(0))\n",
    "# print(predictions)"
   ]
  },
  {
   "cell_type": "code",
   "execution_count": 26,
   "id": "2891ef61",
   "metadata": {},
   "outputs": [
    {
     "name": "stdout",
     "output_type": "stream",
     "text": [
      "tensor([0, 0, 0, 0, 0, 0, 0, 2, 5, 7, 5, 0, 0, 2, 5, 5, 0, 2, 0, 0, 0, 0, 0, 0,\n",
      "        0, 0, 0, 0, 0, 0, 0, 0, 0, 0, 0, 0, 0, 0, 6])\n"
     ]
    }
   ],
   "source": [
    "# getting the prediction class\n",
    "predictions = torch.argmax(predictions.logits.squeeze(), axis=1)\n",
    "print(predictions)"
   ]
  },
  {
   "cell_type": "code",
   "execution_count": 30,
   "id": "147eca73",
   "metadata": {},
   "outputs": [
    {
     "name": "stdout",
     "output_type": "stream",
     "text": [
      "{0: 'O', 1: 'B-geo', 2: 'B-org', 3: 'B-tim', 4: 'I-per', 5: 'I-org', 6: 'B-per', 7: 'B-gpe', 8: 'I-geo', 9: 'I-tim', 10: 'B-art', 11: 'B-eve', 12: 'I-eve', 13: 'I-art', 14: 'I-gpe', 15: 'B-nat', 16: 'I-nat'}\n"
     ]
    }
   ],
   "source": [
    "# creating reverse lable_maps\n",
    "id2label = {}\n",
    "for k in label2id.keys():\n",
    "    id2label[label2id[k]]=k\n",
    "print(id2label)"
   ]
  },
  {
   "cell_type": "code",
   "execution_count": 32,
   "id": "02fbf521",
   "metadata": {},
   "outputs": [
    {
     "name": "stdout",
     "output_type": "stream",
     "text": [
      "['O', 'O', 'O', 'O', 'O', 'O', 'O', 'B-org', 'I-org', 'B-gpe', 'I-org', 'O', 'O', 'B-org', 'I-org', 'I-org', 'O', 'B-org', 'O', 'O', 'O', 'O', 'O', 'O', 'O', 'O', 'O', 'O', 'O', 'O', 'O', 'O', 'O', 'O', 'O', 'O', 'O', 'O', 'B-per']\n"
     ]
    }
   ],
   "source": [
    "predictions = [id2label[int(i)] for i in list(predictions)]\n",
    "print(predictions)"
   ]
  }
 ],
 "metadata": {
  "kernelspec": {
   "display_name": "Python 3 (ipykernel)",
   "language": "python",
   "name": "python3"
  },
  "language_info": {
   "codemirror_mode": {
    "name": "ipython",
    "version": 3
   },
   "file_extension": ".py",
   "mimetype": "text/x-python",
   "name": "python",
   "nbconvert_exporter": "python",
   "pygments_lexer": "ipython3",
   "version": "3.8.16"
  }
 },
 "nbformat": 4,
 "nbformat_minor": 5
}
